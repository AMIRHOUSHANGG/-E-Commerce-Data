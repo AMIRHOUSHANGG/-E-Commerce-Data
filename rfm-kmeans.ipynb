{
 "cells": [
  {
   "cell_type": "code",
   "execution_count": 1,
   "id": "alpha-stocks",
   "metadata": {
    "_cell_guid": "b1076dfc-b9ad-4769-8c92-a6c4dae69d19",
    "_uuid": "8f2839f25d086af736a60e9eeb907d3b93b6e0e5",
    "execution": {
     "iopub.execute_input": "2021-06-22T08:13:29.330563Z",
     "iopub.status.busy": "2021-06-22T08:13:29.326024Z",
     "iopub.status.idle": "2021-06-22T08:13:29.344566Z",
     "shell.execute_reply": "2021-06-22T08:13:29.343743Z",
     "shell.execute_reply.started": "2021-06-22T06:45:56.472435Z"
    },
    "papermill": {
     "duration": 0.056009,
     "end_time": "2021-06-22T08:13:29.344737",
     "exception": false,
     "start_time": "2021-06-22T08:13:29.288728",
     "status": "completed"
    },
    "tags": []
   },
   "outputs": [
    {
     "name": "stdout",
     "output_type": "stream",
     "text": [
      "/kaggle/input/ecommerce-data/data.csv\n"
     ]
    }
   ],
   "source": [
    "# This Python 3 environment comes with many helpful analytics libraries installed\n",
    "# It is defined by the kaggle/python Docker image: https://github.com/kaggle/docker-python\n",
    "# For example, here's several helpful packages to load\n",
    "\n",
    "import numpy as np # linear algebra\n",
    "import pandas as pd # data processing, CSV file I/O (e.g. pd.read_csv)\n",
    "\n",
    "# Input data files are available in the read-only \"../input/\" directory\n",
    "# For example, running this (by clicking run or pressing Shift+Enter) will list all files under the input directory\n",
    "\n",
    "import os\n",
    "for dirname, _, filenames in os.walk('/kaggle/input'):\n",
    "    for filename in filenames:\n",
    "        print(os.path.join(dirname, filename))\n",
    "\n",
    "# You can write up to 20GB to the current directory (/kaggle/working/) that gets preserved as output when you create a version using \"Save & Run All\" \n",
    "# You can also write temporary files to /kaggle/temp/, but they won't be saved outside of the current session"
   ]
  },
  {
   "cell_type": "code",
   "execution_count": 2,
   "id": "elder-damage",
   "metadata": {
    "execution": {
     "iopub.execute_input": "2021-06-22T08:13:29.403669Z",
     "iopub.status.busy": "2021-06-22T08:13:29.402928Z",
     "iopub.status.idle": "2021-06-22T08:13:31.004622Z",
     "shell.execute_reply": "2021-06-22T08:13:31.003862Z",
     "shell.execute_reply.started": "2021-06-22T07:58:35.278068Z"
    },
    "papermill": {
     "duration": 1.632797,
     "end_time": "2021-06-22T08:13:31.004776",
     "exception": false,
     "start_time": "2021-06-22T08:13:29.371979",
     "status": "completed"
    },
    "tags": []
   },
   "outputs": [],
   "source": [
    "import pandas as pd\n",
    "import numpy as np\n",
    "import matplotlib.pyplot as plt\n",
    "import seaborn as sns\n",
    "from sklearn.cluster import KMeans\n"
   ]
  },
  {
   "cell_type": "code",
   "execution_count": 3,
   "id": "prepared-spencer",
   "metadata": {
    "execution": {
     "iopub.execute_input": "2021-06-22T08:13:31.066119Z",
     "iopub.status.busy": "2021-06-22T08:13:31.065300Z",
     "iopub.status.idle": "2021-06-22T08:13:32.396617Z",
     "shell.execute_reply": "2021-06-22T08:13:32.397096Z",
     "shell.execute_reply.started": "2021-06-22T06:58:34.662246Z"
    },
    "papermill": {
     "duration": 1.364895,
     "end_time": "2021-06-22T08:13:32.397307",
     "exception": false,
     "start_time": "2021-06-22T08:13:31.032412",
     "status": "completed"
    },
    "tags": []
   },
   "outputs": [
    {
     "data": {
      "text/html": [
       "<div>\n",
       "<style scoped>\n",
       "    .dataframe tbody tr th:only-of-type {\n",
       "        vertical-align: middle;\n",
       "    }\n",
       "\n",
       "    .dataframe tbody tr th {\n",
       "        vertical-align: top;\n",
       "    }\n",
       "\n",
       "    .dataframe thead th {\n",
       "        text-align: right;\n",
       "    }\n",
       "</style>\n",
       "<table border=\"1\" class=\"dataframe\">\n",
       "  <thead>\n",
       "    <tr style=\"text-align: right;\">\n",
       "      <th></th>\n",
       "      <th>InvoiceNo</th>\n",
       "      <th>StockCode</th>\n",
       "      <th>Description</th>\n",
       "      <th>Quantity</th>\n",
       "      <th>InvoiceDate</th>\n",
       "      <th>UnitPrice</th>\n",
       "      <th>CustomerID</th>\n",
       "      <th>Country</th>\n",
       "    </tr>\n",
       "  </thead>\n",
       "  <tbody>\n",
       "    <tr>\n",
       "      <th>0</th>\n",
       "      <td>536365</td>\n",
       "      <td>85123A</td>\n",
       "      <td>WHITE HANGING HEART T-LIGHT HOLDER</td>\n",
       "      <td>6</td>\n",
       "      <td>12/1/2010 8:26</td>\n",
       "      <td>2.55</td>\n",
       "      <td>17850.0</td>\n",
       "      <td>United Kingdom</td>\n",
       "    </tr>\n",
       "    <tr>\n",
       "      <th>1</th>\n",
       "      <td>536365</td>\n",
       "      <td>71053</td>\n",
       "      <td>WHITE METAL LANTERN</td>\n",
       "      <td>6</td>\n",
       "      <td>12/1/2010 8:26</td>\n",
       "      <td>3.39</td>\n",
       "      <td>17850.0</td>\n",
       "      <td>United Kingdom</td>\n",
       "    </tr>\n",
       "    <tr>\n",
       "      <th>2</th>\n",
       "      <td>536365</td>\n",
       "      <td>84406B</td>\n",
       "      <td>CREAM CUPID HEARTS COAT HANGER</td>\n",
       "      <td>8</td>\n",
       "      <td>12/1/2010 8:26</td>\n",
       "      <td>2.75</td>\n",
       "      <td>17850.0</td>\n",
       "      <td>United Kingdom</td>\n",
       "    </tr>\n",
       "    <tr>\n",
       "      <th>3</th>\n",
       "      <td>536365</td>\n",
       "      <td>84029G</td>\n",
       "      <td>KNITTED UNION FLAG HOT WATER BOTTLE</td>\n",
       "      <td>6</td>\n",
       "      <td>12/1/2010 8:26</td>\n",
       "      <td>3.39</td>\n",
       "      <td>17850.0</td>\n",
       "      <td>United Kingdom</td>\n",
       "    </tr>\n",
       "    <tr>\n",
       "      <th>4</th>\n",
       "      <td>536365</td>\n",
       "      <td>84029E</td>\n",
       "      <td>RED WOOLLY HOTTIE WHITE HEART.</td>\n",
       "      <td>6</td>\n",
       "      <td>12/1/2010 8:26</td>\n",
       "      <td>3.39</td>\n",
       "      <td>17850.0</td>\n",
       "      <td>United Kingdom</td>\n",
       "    </tr>\n",
       "  </tbody>\n",
       "</table>\n",
       "</div>"
      ],
      "text/plain": [
       "  InvoiceNo StockCode                          Description  Quantity  \\\n",
       "0    536365    85123A   WHITE HANGING HEART T-LIGHT HOLDER         6   \n",
       "1    536365     71053                  WHITE METAL LANTERN         6   \n",
       "2    536365    84406B       CREAM CUPID HEARTS COAT HANGER         8   \n",
       "3    536365    84029G  KNITTED UNION FLAG HOT WATER BOTTLE         6   \n",
       "4    536365    84029E       RED WOOLLY HOTTIE WHITE HEART.         6   \n",
       "\n",
       "      InvoiceDate  UnitPrice  CustomerID         Country  \n",
       "0  12/1/2010 8:26       2.55     17850.0  United Kingdom  \n",
       "1  12/1/2010 8:26       3.39     17850.0  United Kingdom  \n",
       "2  12/1/2010 8:26       2.75     17850.0  United Kingdom  \n",
       "3  12/1/2010 8:26       3.39     17850.0  United Kingdom  \n",
       "4  12/1/2010 8:26       3.39     17850.0  United Kingdom  "
      ]
     },
     "execution_count": 3,
     "metadata": {},
     "output_type": "execute_result"
    }
   ],
   "source": [
    "df = pd.read_csv('/kaggle/input/ecommerce-data/data.csv')\n",
    "df.head(5)"
   ]
  },
  {
   "cell_type": "code",
   "execution_count": 4,
   "id": "subsequent-relay",
   "metadata": {
    "execution": {
     "iopub.execute_input": "2021-06-22T08:13:32.461033Z",
     "iopub.status.busy": "2021-06-22T08:13:32.460311Z",
     "iopub.status.idle": "2021-06-22T08:13:32.726606Z",
     "shell.execute_reply": "2021-06-22T08:13:32.725843Z",
     "shell.execute_reply.started": "2021-06-22T06:58:41.046298Z"
    },
    "papermill": {
     "duration": 0.298672,
     "end_time": "2021-06-22T08:13:32.726904",
     "exception": false,
     "start_time": "2021-06-22T08:13:32.428232",
     "status": "completed"
    },
    "tags": []
   },
   "outputs": [
    {
     "name": "stdout",
     "output_type": "stream",
     "text": [
      "<class 'pandas.core.frame.DataFrame'>\n",
      "RangeIndex: 541909 entries, 0 to 541908\n",
      "Data columns (total 8 columns):\n",
      " #   Column       Non-Null Count   Dtype  \n",
      "---  ------       --------------   -----  \n",
      " 0   InvoiceNo    541909 non-null  object \n",
      " 1   StockCode    541909 non-null  object \n",
      " 2   Description  540455 non-null  object \n",
      " 3   Quantity     541909 non-null  int64  \n",
      " 4   InvoiceDate  541909 non-null  object \n",
      " 5   UnitPrice    541909 non-null  float64\n",
      " 6   CustomerID   406829 non-null  float64\n",
      " 7   Country      541909 non-null  object \n",
      "dtypes: float64(2), int64(1), object(5)\n",
      "memory usage: 33.1+ MB\n"
     ]
    }
   ],
   "source": [
    "df.info()"
   ]
  },
  {
   "cell_type": "code",
   "execution_count": 5,
   "id": "downtown-classics",
   "metadata": {
    "execution": {
     "iopub.execute_input": "2021-06-22T08:13:32.789753Z",
     "iopub.status.busy": "2021-06-22T08:13:32.788871Z",
     "iopub.status.idle": "2021-06-22T08:13:32.792131Z",
     "shell.execute_reply": "2021-06-22T08:13:32.791606Z",
     "shell.execute_reply.started": "2021-06-22T06:58:43.477943Z"
    },
    "papermill": {
     "duration": 0.036556,
     "end_time": "2021-06-22T08:13:32.792306",
     "exception": false,
     "start_time": "2021-06-22T08:13:32.755750",
     "status": "completed"
    },
    "tags": []
   },
   "outputs": [],
   "source": [
    "def count(df,feature):\n",
    "    total=df.loc[:,feature].value_counts(dropna=False)\n",
    "    percent=round(df.loc[:,feature].value_counts(dropna=False,normalize=True),2)*100\n",
    "    return pd.concat([total,percent],axis=1,keys=['Total','Percent'])\n",
    "    "
   ]
  },
  {
   "cell_type": "code",
   "execution_count": 6,
   "id": "comfortable-tourist",
   "metadata": {
    "execution": {
     "iopub.execute_input": "2021-06-22T08:13:33.086613Z",
     "iopub.status.busy": "2021-06-22T08:13:32.968258Z",
     "iopub.status.idle": "2021-06-22T08:13:33.133089Z",
     "shell.execute_reply": "2021-06-22T08:13:33.133645Z",
     "shell.execute_reply.started": "2021-06-22T06:58:46.466325Z"
    },
    "papermill": {
     "duration": 0.314049,
     "end_time": "2021-06-22T08:13:33.133839",
     "exception": false,
     "start_time": "2021-06-22T08:13:32.819790",
     "status": "completed"
    },
    "tags": []
   },
   "outputs": [
    {
     "data": {
      "text/html": [
       "<div>\n",
       "<style scoped>\n",
       "    .dataframe tbody tr th:only-of-type {\n",
       "        vertical-align: middle;\n",
       "    }\n",
       "\n",
       "    .dataframe tbody tr th {\n",
       "        vertical-align: top;\n",
       "    }\n",
       "\n",
       "    .dataframe thead th {\n",
       "        text-align: right;\n",
       "    }\n",
       "</style>\n",
       "<table border=\"1\" class=\"dataframe\">\n",
       "  <thead>\n",
       "    <tr style=\"text-align: right;\">\n",
       "      <th></th>\n",
       "      <th>United Kingdom</th>\n",
       "      <th>Germany</th>\n",
       "      <th>France</th>\n",
       "      <th>EIRE</th>\n",
       "      <th>Spain</th>\n",
       "      <th>Netherlands</th>\n",
       "      <th>Belgium</th>\n",
       "      <th>Switzerland</th>\n",
       "      <th>Portugal</th>\n",
       "      <th>Australia</th>\n",
       "      <th>...</th>\n",
       "      <th>Malta</th>\n",
       "      <th>United Arab Emirates</th>\n",
       "      <th>European Community</th>\n",
       "      <th>RSA</th>\n",
       "      <th>Lebanon</th>\n",
       "      <th>Lithuania</th>\n",
       "      <th>Brazil</th>\n",
       "      <th>Czech Republic</th>\n",
       "      <th>Bahrain</th>\n",
       "      <th>Saudi Arabia</th>\n",
       "    </tr>\n",
       "  </thead>\n",
       "  <tbody>\n",
       "    <tr>\n",
       "      <th>Total</th>\n",
       "      <td>495478.0</td>\n",
       "      <td>9495.0</td>\n",
       "      <td>8557.0</td>\n",
       "      <td>8196.0</td>\n",
       "      <td>2533.0</td>\n",
       "      <td>2371.0</td>\n",
       "      <td>2069.0</td>\n",
       "      <td>2002.0</td>\n",
       "      <td>1519.0</td>\n",
       "      <td>1259.0</td>\n",
       "      <td>...</td>\n",
       "      <td>127.0</td>\n",
       "      <td>68.0</td>\n",
       "      <td>61.0</td>\n",
       "      <td>58.0</td>\n",
       "      <td>45.0</td>\n",
       "      <td>35.0</td>\n",
       "      <td>32.0</td>\n",
       "      <td>30.0</td>\n",
       "      <td>19.0</td>\n",
       "      <td>10.0</td>\n",
       "    </tr>\n",
       "    <tr>\n",
       "      <th>Percent</th>\n",
       "      <td>91.0</td>\n",
       "      <td>2.0</td>\n",
       "      <td>2.0</td>\n",
       "      <td>2.0</td>\n",
       "      <td>0.0</td>\n",
       "      <td>0.0</td>\n",
       "      <td>0.0</td>\n",
       "      <td>0.0</td>\n",
       "      <td>0.0</td>\n",
       "      <td>0.0</td>\n",
       "      <td>...</td>\n",
       "      <td>0.0</td>\n",
       "      <td>0.0</td>\n",
       "      <td>0.0</td>\n",
       "      <td>0.0</td>\n",
       "      <td>0.0</td>\n",
       "      <td>0.0</td>\n",
       "      <td>0.0</td>\n",
       "      <td>0.0</td>\n",
       "      <td>0.0</td>\n",
       "      <td>0.0</td>\n",
       "    </tr>\n",
       "  </tbody>\n",
       "</table>\n",
       "<p>2 rows × 38 columns</p>\n",
       "</div>"
      ],
      "text/plain": [
       "         United Kingdom  Germany  France    EIRE   Spain  Netherlands  \\\n",
       "Total          495478.0   9495.0  8557.0  8196.0  2533.0       2371.0   \n",
       "Percent            91.0      2.0     2.0     2.0     0.0          0.0   \n",
       "\n",
       "         Belgium  Switzerland  Portugal  Australia  ...  Malta  \\\n",
       "Total     2069.0       2002.0    1519.0     1259.0  ...  127.0   \n",
       "Percent      0.0          0.0       0.0        0.0  ...    0.0   \n",
       "\n",
       "         United Arab Emirates  European Community   RSA  Lebanon  Lithuania  \\\n",
       "Total                    68.0                61.0  58.0     45.0       35.0   \n",
       "Percent                   0.0                 0.0   0.0      0.0        0.0   \n",
       "\n",
       "         Brazil  Czech Republic  Bahrain  Saudi Arabia  \n",
       "Total      32.0            30.0     19.0          10.0  \n",
       "Percent     0.0             0.0      0.0           0.0  \n",
       "\n",
       "[2 rows x 38 columns]"
      ]
     },
     "execution_count": 6,
     "metadata": {},
     "output_type": "execute_result"
    }
   ],
   "source": [
    "count(df,'Country').T"
   ]
  },
  {
   "cell_type": "code",
   "execution_count": 7,
   "id": "round-august",
   "metadata": {
    "execution": {
     "iopub.execute_input": "2021-06-22T08:13:33.272536Z",
     "iopub.status.busy": "2021-06-22T08:13:33.244026Z",
     "iopub.status.idle": "2021-06-22T08:13:34.230351Z",
     "shell.execute_reply": "2021-06-22T08:13:34.230817Z",
     "shell.execute_reply.started": "2021-06-22T06:58:49.300285Z"
    },
    "papermill": {
     "duration": 1.068507,
     "end_time": "2021-06-22T08:13:34.230997",
     "exception": false,
     "start_time": "2021-06-22T08:13:33.162490",
     "status": "completed"
    },
    "tags": []
   },
   "outputs": [
    {
     "data": {
      "image/png": "[encoded data removed]",
      "text/plain": [
       "<Figure size 1080x1080 with 1 Axes>"
      ]
     },
     "metadata": {
      "needs_background": "light"
     },
     "output_type": "display_data"
    }
   ],
   "source": [
    "plt.figure(figsize=(15,15))\n",
    "sns.countplot(x=\"Country\", data=df)\n",
    "locs, labels = plt.xticks()\n",
    "plt.setp(labels, rotation=90)\n",
    "plt.show()"
   ]
  },
  {
   "cell_type": "code",
   "execution_count": 8,
   "id": "former-hypothesis",
   "metadata": {
    "execution": {
     "iopub.execute_input": "2021-06-22T08:13:34.295795Z",
     "iopub.status.busy": "2021-06-22T08:13:34.295053Z",
     "iopub.status.idle": "2021-06-22T08:13:34.298797Z",
     "shell.execute_reply": "2021-06-22T08:13:34.298167Z",
     "shell.execute_reply.started": "2021-06-22T06:58:54.936806Z"
    },
    "papermill": {
     "duration": 0.038595,
     "end_time": "2021-06-22T08:13:34.298943",
     "exception": false,
     "start_time": "2021-06-22T08:13:34.260348",
     "status": "completed"
    },
    "tags": []
   },
   "outputs": [
    {
     "data": {
      "text/plain": [
       "(541909, 8)"
      ]
     },
     "execution_count": 8,
     "metadata": {},
     "output_type": "execute_result"
    }
   ],
   "source": [
    "df.shape"
   ]
  },
  {
   "cell_type": "code",
   "execution_count": 9,
   "id": "worst-finance",
   "metadata": {
    "execution": {
     "iopub.execute_input": "2021-06-22T08:13:34.605742Z",
     "iopub.status.busy": "2021-06-22T08:13:34.367699Z",
     "iopub.status.idle": "2021-06-22T08:13:34.619110Z",
     "shell.execute_reply": "2021-06-22T08:13:34.618185Z",
     "shell.execute_reply.started": "2021-06-22T06:58:58.253571Z"
    },
    "papermill": {
     "duration": 0.288692,
     "end_time": "2021-06-22T08:13:34.619288",
     "exception": false,
     "start_time": "2021-06-22T08:13:34.330596",
     "status": "completed"
    },
    "tags": []
   },
   "outputs": [
    {
     "data": {
      "text/plain": [
       "InvoiceNo           0\n",
       "StockCode           0\n",
       "Description      1454\n",
       "Quantity            0\n",
       "InvoiceDate         0\n",
       "UnitPrice           0\n",
       "CustomerID     135080\n",
       "Country             0\n",
       "dtype: int64"
      ]
     },
     "execution_count": 9,
     "metadata": {},
     "output_type": "execute_result"
    }
   ],
   "source": [
    "df.isnull().sum()"
   ]
  },
  {
   "cell_type": "code",
   "execution_count": 10,
   "id": "understanding-robin",
   "metadata": {
    "execution": {
     "iopub.execute_input": "2021-06-22T08:13:34.692009Z",
     "iopub.status.busy": "2021-06-22T08:13:34.691336Z",
     "iopub.status.idle": "2021-06-22T08:13:35.096987Z",
     "shell.execute_reply": "2021-06-22T08:13:35.097670Z",
     "shell.execute_reply.started": "2021-06-22T06:59:01.511646Z"
    },
    "papermill": {
     "duration": 0.448932,
     "end_time": "2021-06-22T08:13:35.097891",
     "exception": false,
     "start_time": "2021-06-22T08:13:34.648959",
     "status": "completed"
    },
    "tags": []
   },
   "outputs": [
    {
     "data": {
      "text/plain": [
       "5268"
      ]
     },
     "execution_count": 10,
     "metadata": {},
     "output_type": "execute_result"
    }
   ],
   "source": [
    "df.duplicated().sum()"
   ]
  },
  {
   "cell_type": "code",
   "execution_count": 11,
   "id": "dying-anniversary",
   "metadata": {
    "execution": {
     "iopub.execute_input": "2021-06-22T08:13:35.162921Z",
     "iopub.status.busy": "2021-06-22T08:13:35.162264Z",
     "iopub.status.idle": "2021-06-22T08:13:35.648822Z",
     "shell.execute_reply": "2021-06-22T08:13:35.649506Z",
     "shell.execute_reply.started": "2021-06-22T06:59:04.772746Z"
    },
    "papermill": {
     "duration": 0.520746,
     "end_time": "2021-06-22T08:13:35.649694",
     "exception": false,
     "start_time": "2021-06-22T08:13:35.128948",
     "status": "completed"
    },
    "tags": []
   },
   "outputs": [],
   "source": [
    "df=df.drop_duplicates().reset_index(drop=True)"
   ]
  },
  {
   "cell_type": "code",
   "execution_count": 12,
   "id": "excited-parcel",
   "metadata": {
    "execution": {
     "iopub.execute_input": "2021-06-22T08:13:35.714788Z",
     "iopub.status.busy": "2021-06-22T08:13:35.714059Z",
     "iopub.status.idle": "2021-06-22T08:13:35.724270Z",
     "shell.execute_reply": "2021-06-22T08:13:35.723645Z",
     "shell.execute_reply.started": "2021-06-22T06:59:11.147050Z"
    },
    "papermill": {
     "duration": 0.043932,
     "end_time": "2021-06-22T08:13:35.724418",
     "exception": false,
     "start_time": "2021-06-22T08:13:35.680486",
     "status": "completed"
    },
    "tags": []
   },
   "outputs": [],
   "source": [
    "df['TotalPrice']=df['UnitPrice']*df['UnitPrice']"
   ]
  },
  {
   "cell_type": "code",
   "execution_count": 13,
   "id": "physical-approach",
   "metadata": {
    "execution": {
     "iopub.execute_input": "2021-06-22T08:13:35.801808Z",
     "iopub.status.busy": "2021-06-22T08:13:35.800734Z",
     "iopub.status.idle": "2021-06-22T08:13:35.865693Z",
     "shell.execute_reply": "2021-06-22T08:13:35.864926Z",
     "shell.execute_reply.started": "2021-06-22T06:59:28.166323Z"
    },
    "papermill": {
     "duration": 0.110804,
     "end_time": "2021-06-22T08:13:35.865836",
     "exception": false,
     "start_time": "2021-06-22T08:13:35.755032",
     "status": "completed"
    },
    "tags": []
   },
   "outputs": [],
   "source": [
    "df_country=df.groupby('Country').agg({'TotalPrice': lambda x: x.sum()})"
   ]
  },
  {
   "cell_type": "code",
   "execution_count": 14,
   "id": "covered-fifteen",
   "metadata": {
    "execution": {
     "iopub.execute_input": "2021-06-22T08:13:36.057034Z",
     "iopub.status.busy": "2021-06-22T08:13:36.040527Z",
     "iopub.status.idle": "2021-06-22T08:13:36.061825Z",
     "shell.execute_reply": "2021-06-22T08:13:36.061201Z",
     "shell.execute_reply.started": "2021-06-22T06:59:31.001975Z"
    },
    "papermill": {
     "duration": 0.16585,
     "end_time": "2021-06-22T08:13:36.061964",
     "exception": false,
     "start_time": "2021-06-22T08:13:35.896114",
     "status": "completed"
    },
    "tags": []
   },
   "outputs": [
    {
     "data": {
      "text/html": [
       "<div>\n",
       "<style scoped>\n",
       "    .dataframe tbody tr th:only-of-type {\n",
       "        vertical-align: middle;\n",
       "    }\n",
       "\n",
       "    .dataframe tbody tr th {\n",
       "        vertical-align: top;\n",
       "    }\n",
       "\n",
       "    .dataframe thead th {\n",
       "        text-align: right;\n",
       "    }\n",
       "</style>\n",
       "<table border=\"1\" class=\"dataframe\">\n",
       "  <thead>\n",
       "    <tr style=\"text-align: right;\">\n",
       "      <th>Country</th>\n",
       "      <th>Australia</th>\n",
       "      <th>Austria</th>\n",
       "      <th>Bahrain</th>\n",
       "      <th>Belgium</th>\n",
       "      <th>Brazil</th>\n",
       "      <th>Canada</th>\n",
       "      <th>Channel Islands</th>\n",
       "      <th>Cyprus</th>\n",
       "      <th>Czech Republic</th>\n",
       "      <th>Denmark</th>\n",
       "      <th>...</th>\n",
       "      <th>RSA</th>\n",
       "      <th>Saudi Arabia</th>\n",
       "      <th>Singapore</th>\n",
       "      <th>Spain</th>\n",
       "      <th>Sweden</th>\n",
       "      <th>Switzerland</th>\n",
       "      <th>USA</th>\n",
       "      <th>United Arab Emirates</th>\n",
       "      <th>United Kingdom</th>\n",
       "      <th>Unspecified</th>\n",
       "    </tr>\n",
       "  </thead>\n",
       "  <tbody>\n",
       "    <tr>\n",
       "      <th>TotalPrice</th>\n",
       "      <td>208181.3168</td>\n",
       "      <td>28859.1846</td>\n",
       "      <td>611.6147</td>\n",
       "      <td>64735.7883</td>\n",
       "      <td>884.0402</td>\n",
       "      <td>305388.0148</td>\n",
       "      <td>201419.643</td>\n",
       "      <td>336679.737</td>\n",
       "      <td>1720.4263</td>\n",
       "      <td>10211.7187</td>\n",
       "      <td>...</td>\n",
       "      <td>1828.3406</td>\n",
       "      <td>75.3965</td>\n",
       "      <td>6.328910e+07</td>\n",
       "      <td>4.319920e+06</td>\n",
       "      <td>38706.1801</td>\n",
       "      <td>81259.3039</td>\n",
       "      <td>2912.9138</td>\n",
       "      <td>2689.4263</td>\n",
       "      <td>4.897287e+09</td>\n",
       "      <td>6889.5949</td>\n",
       "    </tr>\n",
       "  </tbody>\n",
       "</table>\n",
       "<p>1 rows × 38 columns</p>\n",
       "</div>"
      ],
      "text/plain": [
       "Country       Australia     Austria   Bahrain     Belgium    Brazil  \\\n",
       "TotalPrice  208181.3168  28859.1846  611.6147  64735.7883  884.0402   \n",
       "\n",
       "Country          Canada  Channel Islands      Cyprus  Czech Republic  \\\n",
       "TotalPrice  305388.0148       201419.643  336679.737       1720.4263   \n",
       "\n",
       "Country        Denmark  ...        RSA  Saudi Arabia     Singapore  \\\n",
       "TotalPrice  10211.7187  ...  1828.3406       75.3965  6.328910e+07   \n",
       "\n",
       "Country            Spain      Sweden  Switzerland        USA  \\\n",
       "TotalPrice  4.319920e+06  38706.1801   81259.3039  2912.9138   \n",
       "\n",
       "Country     United Arab Emirates  United Kingdom  Unspecified  \n",
       "TotalPrice             2689.4263    4.897287e+09    6889.5949  \n",
       "\n",
       "[1 rows x 38 columns]"
      ]
     },
     "execution_count": 14,
     "metadata": {},
     "output_type": "execute_result"
    }
   ],
   "source": [
    "df_country.T"
   ]
  },
  {
   "cell_type": "code",
   "execution_count": 15,
   "id": "reported-friday",
   "metadata": {
    "execution": {
     "iopub.execute_input": "2021-06-22T08:13:36.128119Z",
     "iopub.status.busy": "2021-06-22T08:13:36.127463Z",
     "iopub.status.idle": "2021-06-22T08:13:36.130784Z",
     "shell.execute_reply": "2021-06-22T08:13:36.131321Z",
     "shell.execute_reply.started": "2021-06-22T06:59:49.837327Z"
    },
    "papermill": {
     "duration": 0.039005,
     "end_time": "2021-06-22T08:13:36.131516",
     "exception": false,
     "start_time": "2021-06-22T08:13:36.092511",
     "status": "completed"
    },
    "tags": []
   },
   "outputs": [],
   "source": [
    "import datetime as dt\n"
   ]
  },
  {
   "cell_type": "code",
   "execution_count": 16,
   "id": "pediatric-delay",
   "metadata": {
    "execution": {
     "iopub.execute_input": "2021-06-22T08:13:36.225724Z",
     "iopub.status.busy": "2021-06-22T08:13:36.224905Z",
     "iopub.status.idle": "2021-06-22T08:13:38.598017Z",
     "shell.execute_reply": "2021-06-22T08:13:38.598533Z",
     "shell.execute_reply.started": "2021-06-22T07:02:48.037408Z"
    },
    "papermill": {
     "duration": 2.436694,
     "end_time": "2021-06-22T08:13:38.598735",
     "exception": false,
     "start_time": "2021-06-22T08:13:36.162041",
     "status": "completed"
    },
    "tags": []
   },
   "outputs": [],
   "source": [
    "df['InvoiceDate'] = pd.to_datetime(df['InvoiceDate'])"
   ]
  },
  {
   "cell_type": "code",
   "execution_count": 17,
   "id": "cellular-depth",
   "metadata": {
    "execution": {
     "iopub.execute_input": "2021-06-22T08:13:38.663708Z",
     "iopub.status.busy": "2021-06-22T08:13:38.663002Z",
     "iopub.status.idle": "2021-06-22T08:13:42.333940Z",
     "shell.execute_reply": "2021-06-22T08:13:42.334519Z",
     "shell.execute_reply.started": "2021-06-22T07:02:53.170838Z"
    },
    "papermill": {
     "duration": 3.705326,
     "end_time": "2021-06-22T08:13:42.334702",
     "exception": false,
     "start_time": "2021-06-22T08:13:38.629376",
     "status": "completed"
    },
    "tags": []
   },
   "outputs": [],
   "source": [
    "df['InvoiceDay'] = df['InvoiceDate'].apply(lambda x: dt.datetime(x.year, x.month, x.day))"
   ]
  },
  {
   "cell_type": "code",
   "execution_count": 18,
   "id": "protecting-entity",
   "metadata": {
    "execution": {
     "iopub.execute_input": "2021-06-22T08:13:42.399586Z",
     "iopub.status.busy": "2021-06-22T08:13:42.398902Z",
     "iopub.status.idle": "2021-06-22T08:13:43.662428Z",
     "shell.execute_reply": "2021-06-22T08:13:43.661633Z",
     "shell.execute_reply.started": "2021-06-22T07:10:39.059322Z"
    },
    "papermill": {
     "duration": 1.297367,
     "end_time": "2021-06-22T08:13:43.662607",
     "exception": false,
     "start_time": "2021-06-22T08:13:42.365240",
     "status": "completed"
    },
    "tags": []
   },
   "outputs": [
    {
     "data": {
      "text/plain": [
       "Timestamp('2011-12-10 00:00:00')"
      ]
     },
     "execution_count": 18,
     "metadata": {},
     "output_type": "execute_result"
    }
   ],
   "source": [
    "pin_df=max(df['InvoiceDay'])+dt.timedelta(1)\n",
    "pin_df"
   ]
  },
  {
   "cell_type": "code",
   "execution_count": 19,
   "id": "overhead-blade",
   "metadata": {
    "execution": {
     "iopub.execute_input": "2021-06-22T08:13:43.733596Z",
     "iopub.status.busy": "2021-06-22T08:13:43.732419Z",
     "iopub.status.idle": "2021-06-22T08:13:44.277468Z",
     "shell.execute_reply": "2021-06-22T08:13:44.276897Z",
     "shell.execute_reply.started": "2021-06-22T07:24:19.848765Z"
    },
    "papermill": {
     "duration": 0.583443,
     "end_time": "2021-06-22T08:13:44.277622",
     "exception": false,
     "start_time": "2021-06-22T08:13:43.694179",
     "status": "completed"
    },
    "tags": []
   },
   "outputs": [],
   "source": [
    "rfm=df.groupby('CustomerID').agg({'InvoiceDay':lambda x:(pin_df-x.max()).days,'InvoiceNo':'count','TotalPrice':'sum'})"
   ]
  },
  {
   "cell_type": "code",
   "execution_count": 20,
   "id": "central-harvey",
   "metadata": {
    "execution": {
     "iopub.execute_input": "2021-06-22T08:13:44.355449Z",
     "iopub.status.busy": "2021-06-22T08:13:44.354514Z",
     "iopub.status.idle": "2021-06-22T08:13:44.358166Z",
     "shell.execute_reply": "2021-06-22T08:13:44.358660Z",
     "shell.execute_reply.started": "2021-06-22T07:25:12.668724Z"
    },
    "papermill": {
     "duration": 0.050598,
     "end_time": "2021-06-22T08:13:44.358834",
     "exception": false,
     "start_time": "2021-06-22T08:13:44.308236",
     "status": "completed"
    },
    "tags": []
   },
   "outputs": [
    {
     "data": {
      "text/html": [
       "<div>\n",
       "<style scoped>\n",
       "    .dataframe tbody tr th:only-of-type {\n",
       "        vertical-align: middle;\n",
       "    }\n",
       "\n",
       "    .dataframe tbody tr th {\n",
       "        vertical-align: top;\n",
       "    }\n",
       "\n",
       "    .dataframe thead th {\n",
       "        text-align: right;\n",
       "    }\n",
       "</style>\n",
       "<table border=\"1\" class=\"dataframe\">\n",
       "  <thead>\n",
       "    <tr style=\"text-align: right;\">\n",
       "      <th></th>\n",
       "      <th>InvoiceDay</th>\n",
       "      <th>InvoiceNo</th>\n",
       "      <th>TotalPrice</th>\n",
       "    </tr>\n",
       "    <tr>\n",
       "      <th>CustomerID</th>\n",
       "      <th></th>\n",
       "      <th></th>\n",
       "      <th></th>\n",
       "    </tr>\n",
       "  </thead>\n",
       "  <tbody>\n",
       "    <tr>\n",
       "      <th>12346.0</th>\n",
       "      <td>326</td>\n",
       "      <td>2</td>\n",
       "      <td>2.1632</td>\n",
       "    </tr>\n",
       "    <tr>\n",
       "      <th>12347.0</th>\n",
       "      <td>3</td>\n",
       "      <td>182</td>\n",
       "      <td>2193.0251</td>\n",
       "    </tr>\n",
       "    <tr>\n",
       "      <th>12348.0</th>\n",
       "      <td>76</td>\n",
       "      <td>31</td>\n",
       "      <td>6417.2943</td>\n",
       "    </tr>\n",
       "    <tr>\n",
       "      <th>12349.0</th>\n",
       "      <td>19</td>\n",
       "      <td>73</td>\n",
       "      <td>93356.9820</td>\n",
       "    </tr>\n",
       "    <tr>\n",
       "      <th>12350.0</th>\n",
       "      <td>311</td>\n",
       "      <td>17</td>\n",
       "      <td>1645.0300</td>\n",
       "    </tr>\n",
       "    <tr>\n",
       "      <th>...</th>\n",
       "      <td>...</td>\n",
       "      <td>...</td>\n",
       "      <td>...</td>\n",
       "    </tr>\n",
       "    <tr>\n",
       "      <th>18280.0</th>\n",
       "      <td>278</td>\n",
       "      <td>10</td>\n",
       "      <td>282.0525</td>\n",
       "    </tr>\n",
       "    <tr>\n",
       "      <th>18281.0</th>\n",
       "      <td>181</td>\n",
       "      <td>7</td>\n",
       "      <td>584.3592</td>\n",
       "    </tr>\n",
       "    <tr>\n",
       "      <th>18282.0</th>\n",
       "      <td>8</td>\n",
       "      <td>13</td>\n",
       "      <td>585.9760</td>\n",
       "    </tr>\n",
       "    <tr>\n",
       "      <th>18283.0</th>\n",
       "      <td>4</td>\n",
       "      <td>721</td>\n",
       "      <td>2802.6505</td>\n",
       "    </tr>\n",
       "    <tr>\n",
       "      <th>18287.0</th>\n",
       "      <td>43</td>\n",
       "      <td>70</td>\n",
       "      <td>260.0539</td>\n",
       "    </tr>\n",
       "  </tbody>\n",
       "</table>\n",
       "<p>4372 rows × 3 columns</p>\n",
       "</div>"
      ],
      "text/plain": [
       "            InvoiceDay  InvoiceNo  TotalPrice\n",
       "CustomerID                                   \n",
       "12346.0            326          2      2.1632\n",
       "12347.0              3        182   2193.0251\n",
       "12348.0             76         31   6417.2943\n",
       "12349.0             19         73  93356.9820\n",
       "12350.0            311         17   1645.0300\n",
       "...                ...        ...         ...\n",
       "18280.0            278         10    282.0525\n",
       "18281.0            181          7    584.3592\n",
       "18282.0              8         13    585.9760\n",
       "18283.0              4        721   2802.6505\n",
       "18287.0             43         70    260.0539\n",
       "\n",
       "[4372 rows x 3 columns]"
      ]
     },
     "execution_count": 20,
     "metadata": {},
     "output_type": "execute_result"
    }
   ],
   "source": [
    "rfm"
   ]
  },
  {
   "cell_type": "code",
   "execution_count": 21,
   "id": "corporate-virus",
   "metadata": {
    "execution": {
     "iopub.execute_input": "2021-06-22T08:13:44.428049Z",
     "iopub.status.busy": "2021-06-22T08:13:44.426919Z",
     "iopub.status.idle": "2021-06-22T08:13:44.442937Z",
     "shell.execute_reply": "2021-06-22T08:13:44.443472Z",
     "shell.execute_reply.started": "2021-06-22T07:28:43.532656Z"
    },
    "papermill": {
     "duration": 0.052674,
     "end_time": "2021-06-22T08:13:44.443649",
     "exception": false,
     "start_time": "2021-06-22T08:13:44.390975",
     "status": "completed"
    },
    "tags": []
   },
   "outputs": [
    {
     "data": {
      "text/html": [
       "<div>\n",
       "<style scoped>\n",
       "    .dataframe tbody tr th:only-of-type {\n",
       "        vertical-align: middle;\n",
       "    }\n",
       "\n",
       "    .dataframe tbody tr th {\n",
       "        vertical-align: top;\n",
       "    }\n",
       "\n",
       "    .dataframe thead th {\n",
       "        text-align: right;\n",
       "    }\n",
       "</style>\n",
       "<table border=\"1\" class=\"dataframe\">\n",
       "  <thead>\n",
       "    <tr style=\"text-align: right;\">\n",
       "      <th></th>\n",
       "      <th>Recency</th>\n",
       "      <th>Frequency</th>\n",
       "      <th>Monetary</th>\n",
       "    </tr>\n",
       "    <tr>\n",
       "      <th>CustomerID</th>\n",
       "      <th></th>\n",
       "      <th></th>\n",
       "      <th></th>\n",
       "    </tr>\n",
       "  </thead>\n",
       "  <tbody>\n",
       "    <tr>\n",
       "      <th>12346.0</th>\n",
       "      <td>326</td>\n",
       "      <td>2</td>\n",
       "      <td>2.1632</td>\n",
       "    </tr>\n",
       "    <tr>\n",
       "      <th>12347.0</th>\n",
       "      <td>3</td>\n",
       "      <td>182</td>\n",
       "      <td>2193.0251</td>\n",
       "    </tr>\n",
       "    <tr>\n",
       "      <th>12348.0</th>\n",
       "      <td>76</td>\n",
       "      <td>31</td>\n",
       "      <td>6417.2943</td>\n",
       "    </tr>\n",
       "    <tr>\n",
       "      <th>12349.0</th>\n",
       "      <td>19</td>\n",
       "      <td>73</td>\n",
       "      <td>93356.9820</td>\n",
       "    </tr>\n",
       "    <tr>\n",
       "      <th>12350.0</th>\n",
       "      <td>311</td>\n",
       "      <td>17</td>\n",
       "      <td>1645.0300</td>\n",
       "    </tr>\n",
       "    <tr>\n",
       "      <th>...</th>\n",
       "      <td>...</td>\n",
       "      <td>...</td>\n",
       "      <td>...</td>\n",
       "    </tr>\n",
       "    <tr>\n",
       "      <th>18280.0</th>\n",
       "      <td>278</td>\n",
       "      <td>10</td>\n",
       "      <td>282.0525</td>\n",
       "    </tr>\n",
       "    <tr>\n",
       "      <th>18281.0</th>\n",
       "      <td>181</td>\n",
       "      <td>7</td>\n",
       "      <td>584.3592</td>\n",
       "    </tr>\n",
       "    <tr>\n",
       "      <th>18282.0</th>\n",
       "      <td>8</td>\n",
       "      <td>13</td>\n",
       "      <td>585.9760</td>\n",
       "    </tr>\n",
       "    <tr>\n",
       "      <th>18283.0</th>\n",
       "      <td>4</td>\n",
       "      <td>721</td>\n",
       "      <td>2802.6505</td>\n",
       "    </tr>\n",
       "    <tr>\n",
       "      <th>18287.0</th>\n",
       "      <td>43</td>\n",
       "      <td>70</td>\n",
       "      <td>260.0539</td>\n",
       "    </tr>\n",
       "  </tbody>\n",
       "</table>\n",
       "<p>4372 rows × 3 columns</p>\n",
       "</div>"
      ],
      "text/plain": [
       "            Recency  Frequency    Monetary\n",
       "CustomerID                                \n",
       "12346.0         326          2      2.1632\n",
       "12347.0           3        182   2193.0251\n",
       "12348.0          76         31   6417.2943\n",
       "12349.0          19         73  93356.9820\n",
       "12350.0         311         17   1645.0300\n",
       "...             ...        ...         ...\n",
       "18280.0         278         10    282.0525\n",
       "18281.0         181          7    584.3592\n",
       "18282.0           8         13    585.9760\n",
       "18283.0           4        721   2802.6505\n",
       "18287.0          43         70    260.0539\n",
       "\n",
       "[4372 rows x 3 columns]"
      ]
     },
     "execution_count": 21,
     "metadata": {},
     "output_type": "execute_result"
    }
   ],
   "source": [
    "rfm.rename(columns= {\n",
    "    'InvoiceDay': 'Recency',\n",
    "    'InvoiceNo': 'Frequency',\n",
    "    'TotalPrice': 'Monetary'\n",
    "}, inplace=True)\n",
    "rfm"
   ]
  },
  {
   "cell_type": "code",
   "execution_count": 22,
   "id": "direct-lobby",
   "metadata": {
    "execution": {
     "iopub.execute_input": "2021-06-22T08:13:44.511645Z",
     "iopub.status.busy": "2021-06-22T08:13:44.510507Z",
     "iopub.status.idle": "2021-06-22T08:13:44.524271Z",
     "shell.execute_reply": "2021-06-22T08:13:44.524818Z",
     "shell.execute_reply.started": "2021-06-22T07:36:29.995199Z"
    },
    "papermill": {
     "duration": 0.0495,
     "end_time": "2021-06-22T08:13:44.524998",
     "exception": false,
     "start_time": "2021-06-22T08:13:44.475498",
     "status": "completed"
    },
    "tags": []
   },
   "outputs": [],
   "source": [
    "r_labels=range(4,0,-1)\n",
    "r_groups=pd.qcut(rfm['Recency'],q=4,labels=r_labels)\n",
    "f_groups=pd.qcut(rfm['Frequency'],q=4,labels=r_labels)\n",
    "m_groups=pd.qcut(rfm['Monetary'],q=4,labels=r_labels)\n"
   ]
  },
  {
   "cell_type": "code",
   "execution_count": 23,
   "id": "caring-gross",
   "metadata": {
    "execution": {
     "iopub.execute_input": "2021-06-22T08:13:44.595211Z",
     "iopub.status.busy": "2021-06-22T08:13:44.594181Z",
     "iopub.status.idle": "2021-06-22T08:13:44.600925Z",
     "shell.execute_reply": "2021-06-22T08:13:44.601445Z",
     "shell.execute_reply.started": "2021-06-22T07:40:16.022648Z"
    },
    "papermill": {
     "duration": 0.045,
     "end_time": "2021-06-22T08:13:44.601642",
     "exception": false,
     "start_time": "2021-06-22T08:13:44.556642",
     "status": "completed"
    },
    "tags": []
   },
   "outputs": [],
   "source": [
    "rfm['R']=r_groups.values\n",
    "rfm['F']=f_groups.values\n",
    "rfm['M']=m_groups.values\n"
   ]
  },
  {
   "cell_type": "code",
   "execution_count": 24,
   "id": "frequent-yugoslavia",
   "metadata": {
    "execution": {
     "iopub.execute_input": "2021-06-22T08:13:44.670277Z",
     "iopub.status.busy": "2021-06-22T08:13:44.669198Z",
     "iopub.status.idle": "2021-06-22T08:13:44.694292Z",
     "shell.execute_reply": "2021-06-22T08:13:44.694753Z",
     "shell.execute_reply.started": "2021-06-22T07:40:24.232667Z"
    },
    "papermill": {
     "duration": 0.060211,
     "end_time": "2021-06-22T08:13:44.694931",
     "exception": false,
     "start_time": "2021-06-22T08:13:44.634720",
     "status": "completed"
    },
    "tags": []
   },
   "outputs": [
    {
     "data": {
      "text/html": [
       "<div>\n",
       "<style scoped>\n",
       "    .dataframe tbody tr th:only-of-type {\n",
       "        vertical-align: middle;\n",
       "    }\n",
       "\n",
       "    .dataframe tbody tr th {\n",
       "        vertical-align: top;\n",
       "    }\n",
       "\n",
       "    .dataframe thead th {\n",
       "        text-align: right;\n",
       "    }\n",
       "</style>\n",
       "<table border=\"1\" class=\"dataframe\">\n",
       "  <thead>\n",
       "    <tr style=\"text-align: right;\">\n",
       "      <th></th>\n",
       "      <th>Recency</th>\n",
       "      <th>Frequency</th>\n",
       "      <th>Monetary</th>\n",
       "      <th>R</th>\n",
       "      <th>F</th>\n",
       "      <th>M</th>\n",
       "    </tr>\n",
       "    <tr>\n",
       "      <th>CustomerID</th>\n",
       "      <th></th>\n",
       "      <th></th>\n",
       "      <th></th>\n",
       "      <th></th>\n",
       "      <th></th>\n",
       "      <th></th>\n",
       "    </tr>\n",
       "  </thead>\n",
       "  <tbody>\n",
       "    <tr>\n",
       "      <th>12346.0</th>\n",
       "      <td>326</td>\n",
       "      <td>2</td>\n",
       "      <td>2.1632</td>\n",
       "      <td>1</td>\n",
       "      <td>4</td>\n",
       "      <td>4</td>\n",
       "    </tr>\n",
       "    <tr>\n",
       "      <th>12347.0</th>\n",
       "      <td>3</td>\n",
       "      <td>182</td>\n",
       "      <td>2193.0251</td>\n",
       "      <td>4</td>\n",
       "      <td>1</td>\n",
       "      <td>1</td>\n",
       "    </tr>\n",
       "    <tr>\n",
       "      <th>12348.0</th>\n",
       "      <td>76</td>\n",
       "      <td>31</td>\n",
       "      <td>6417.2943</td>\n",
       "      <td>2</td>\n",
       "      <td>3</td>\n",
       "      <td>1</td>\n",
       "    </tr>\n",
       "    <tr>\n",
       "      <th>12349.0</th>\n",
       "      <td>19</td>\n",
       "      <td>73</td>\n",
       "      <td>93356.9820</td>\n",
       "      <td>3</td>\n",
       "      <td>2</td>\n",
       "      <td>1</td>\n",
       "    </tr>\n",
       "    <tr>\n",
       "      <th>12350.0</th>\n",
       "      <td>311</td>\n",
       "      <td>17</td>\n",
       "      <td>1645.0300</td>\n",
       "      <td>1</td>\n",
       "      <td>4</td>\n",
       "      <td>2</td>\n",
       "    </tr>\n",
       "    <tr>\n",
       "      <th>...</th>\n",
       "      <td>...</td>\n",
       "      <td>...</td>\n",
       "      <td>...</td>\n",
       "      <td>...</td>\n",
       "      <td>...</td>\n",
       "      <td>...</td>\n",
       "    </tr>\n",
       "    <tr>\n",
       "      <th>18280.0</th>\n",
       "      <td>278</td>\n",
       "      <td>10</td>\n",
       "      <td>282.0525</td>\n",
       "      <td>1</td>\n",
       "      <td>4</td>\n",
       "      <td>3</td>\n",
       "    </tr>\n",
       "    <tr>\n",
       "      <th>18281.0</th>\n",
       "      <td>181</td>\n",
       "      <td>7</td>\n",
       "      <td>584.3592</td>\n",
       "      <td>1</td>\n",
       "      <td>4</td>\n",
       "      <td>3</td>\n",
       "    </tr>\n",
       "    <tr>\n",
       "      <th>18282.0</th>\n",
       "      <td>8</td>\n",
       "      <td>13</td>\n",
       "      <td>585.9760</td>\n",
       "      <td>4</td>\n",
       "      <td>4</td>\n",
       "      <td>3</td>\n",
       "    </tr>\n",
       "    <tr>\n",
       "      <th>18283.0</th>\n",
       "      <td>4</td>\n",
       "      <td>721</td>\n",
       "      <td>2802.6505</td>\n",
       "      <td>4</td>\n",
       "      <td>1</td>\n",
       "      <td>1</td>\n",
       "    </tr>\n",
       "    <tr>\n",
       "      <th>18287.0</th>\n",
       "      <td>43</td>\n",
       "      <td>70</td>\n",
       "      <td>260.0539</td>\n",
       "      <td>3</td>\n",
       "      <td>2</td>\n",
       "      <td>3</td>\n",
       "    </tr>\n",
       "  </tbody>\n",
       "</table>\n",
       "<p>4372 rows × 6 columns</p>\n",
       "</div>"
      ],
      "text/plain": [
       "            Recency  Frequency    Monetary  R  F  M\n",
       "CustomerID                                         \n",
       "12346.0         326          2      2.1632  1  4  4\n",
       "12347.0           3        182   2193.0251  4  1  1\n",
       "12348.0          76         31   6417.2943  2  3  1\n",
       "12349.0          19         73  93356.9820  3  2  1\n",
       "12350.0         311         17   1645.0300  1  4  2\n",
       "...             ...        ...         ... .. .. ..\n",
       "18280.0         278         10    282.0525  1  4  3\n",
       "18281.0         181          7    584.3592  1  4  3\n",
       "18282.0           8         13    585.9760  4  4  3\n",
       "18283.0           4        721   2802.6505  4  1  1\n",
       "18287.0          43         70    260.0539  3  2  3\n",
       "\n",
       "[4372 rows x 6 columns]"
      ]
     },
     "execution_count": 24,
     "metadata": {},
     "output_type": "execute_result"
    }
   ],
   "source": [
    "rfm"
   ]
  },
  {
   "cell_type": "code",
   "execution_count": 25,
   "id": "contrary-directive",
   "metadata": {
    "execution": {
     "iopub.execute_input": "2021-06-22T08:13:44.763509Z",
     "iopub.status.busy": "2021-06-22T08:13:44.762539Z",
     "iopub.status.idle": "2021-06-22T08:13:44.767929Z",
     "shell.execute_reply": "2021-06-22T08:13:44.768444Z",
     "shell.execute_reply.started": "2021-06-22T07:45:09.284495Z"
    },
    "papermill": {
     "duration": 0.04124,
     "end_time": "2021-06-22T08:13:44.768626",
     "exception": false,
     "start_time": "2021-06-22T08:13:44.727386",
     "status": "completed"
    },
    "tags": []
   },
   "outputs": [],
   "source": [
    "X = rfm[['R', 'F', 'M']]"
   ]
  },
  {
   "cell_type": "code",
   "execution_count": 26,
   "id": "planned-intake",
   "metadata": {
    "execution": {
     "iopub.execute_input": "2021-06-22T08:13:44.847695Z",
     "iopub.status.busy": "2021-06-22T08:13:44.846968Z",
     "iopub.status.idle": "2021-06-22T08:13:57.088086Z",
     "shell.execute_reply": "2021-06-22T08:13:57.086920Z",
     "shell.execute_reply.started": "2021-06-22T08:08:47.529259Z"
    },
    "papermill": {
     "duration": 12.28648,
     "end_time": "2021-06-22T08:13:57.088276",
     "exception": false,
     "start_time": "2021-06-22T08:13:44.801796",
     "status": "completed"
    },
    "tags": []
   },
   "outputs": [
    {
     "name": "stderr",
     "output_type": "stream",
     "text": [
      "/opt/conda/lib/python3.7/site-packages/sklearn/utils/validation.py:63: FutureWarning: Arrays of bytes/strings is being converted to decimal numbers if dtype='numeric'. This behavior is deprecated in 0.24 and will be removed in 1.1 (renaming of 0.26). Please convert your data to numeric values explicitly instead.\n",
      "  return f(*args, **kwargs)\n",
      "/opt/conda/lib/python3.7/site-packages/sklearn/utils/validation.py:63: FutureWarning: Arrays of bytes/strings is being converted to decimal numbers if dtype='numeric'. This behavior is deprecated in 0.24 and will be removed in 1.1 (renaming of 0.26). Please convert your data to numeric values explicitly instead.\n",
      "  return f(*args, **kwargs)\n",
      "/opt/conda/lib/python3.7/site-packages/sklearn/utils/validation.py:63: FutureWarning: Arrays of bytes/strings is being converted to decimal numbers if dtype='numeric'. This behavior is deprecated in 0.24 and will be removed in 1.1 (renaming of 0.26). Please convert your data to numeric values explicitly instead.\n",
      "  return f(*args, **kwargs)\n",
      "/opt/conda/lib/python3.7/site-packages/sklearn/utils/validation.py:63: FutureWarning: Arrays of bytes/strings is being converted to decimal numbers if dtype='numeric'. This behavior is deprecated in 0.24 and will be removed in 1.1 (renaming of 0.26). Please convert your data to numeric values explicitly instead.\n",
      "  return f(*args, **kwargs)\n",
      "/opt/conda/lib/python3.7/site-packages/sklearn/utils/validation.py:63: FutureWarning: Arrays of bytes/strings is being converted to decimal numbers if dtype='numeric'. This behavior is deprecated in 0.24 and will be removed in 1.1 (renaming of 0.26). Please convert your data to numeric values explicitly instead.\n",
      "  return f(*args, **kwargs)\n",
      "/opt/conda/lib/python3.7/site-packages/sklearn/utils/validation.py:63: FutureWarning: Arrays of bytes/strings is being converted to decimal numbers if dtype='numeric'. This behavior is deprecated in 0.24 and will be removed in 1.1 (renaming of 0.26). Please convert your data to numeric values explicitly instead.\n",
      "  return f(*args, **kwargs)\n",
      "/opt/conda/lib/python3.7/site-packages/sklearn/utils/validation.py:63: FutureWarning: Arrays of bytes/strings is being converted to decimal numbers if dtype='numeric'. This behavior is deprecated in 0.24 and will be removed in 1.1 (renaming of 0.26). Please convert your data to numeric values explicitly instead.\n",
      "  return f(*args, **kwargs)\n",
      "/opt/conda/lib/python3.7/site-packages/sklearn/utils/validation.py:63: FutureWarning: Arrays of bytes/strings is being converted to decimal numbers if dtype='numeric'. This behavior is deprecated in 0.24 and will be removed in 1.1 (renaming of 0.26). Please convert your data to numeric values explicitly instead.\n",
      "  return f(*args, **kwargs)\n"
     ]
    },
    {
     "data": {
      "image/png": "[encoded data removed]",
      "text/plain": [
       "<Figure size 1080x720 with 1 Axes>"
      ]
     },
     "metadata": {
      "needs_background": "light"
     },
     "output_type": "display_data"
    }
   ],
   "source": [
    "from sklearn.cluster import KMeans\n",
    "from sklearn.metrics import silhouette_score\n",
    "plt.figure(figsize=(15,10))\n",
    "distortions=[]\n",
    "sil_scores=[]\n",
    "for i in range(2,10):\n",
    "    kmeans= KMeans(n_clusters=i, n_init=10, init= 'k-means++', algorithm='full', max_iter=300)\n",
    "    kmeans.fit(X)\n",
    "    distortions.append(kmeans.inertia_)\n",
    "    label= kmeans.labels_\n",
    "    sil_scores.append(silhouette_score(X, label))\n",
    "plt.plot(np.arange(2,10,1), distortions, alpha=0.5)\n",
    "plt.plot(np.arange(2,10,1), distortions,'o' ,alpha=0.5)\n",
    "plt.show()"
   ]
  },
  {
   "cell_type": "code",
   "execution_count": 27,
   "id": "confidential-fellowship",
   "metadata": {
    "execution": {
     "iopub.execute_input": "2021-06-22T08:13:57.171021Z",
     "iopub.status.busy": "2021-06-22T08:13:57.169588Z",
     "iopub.status.idle": "2021-06-22T08:13:58.392502Z",
     "shell.execute_reply": "2021-06-22T08:13:58.393500Z",
     "shell.execute_reply.started": "2021-06-22T08:09:20.144805Z"
    },
    "papermill": {
     "duration": 1.268014,
     "end_time": "2021-06-22T08:13:58.393700",
     "exception": false,
     "start_time": "2021-06-22T08:13:57.125686",
     "status": "completed"
    },
    "tags": []
   },
   "outputs": [
    {
     "data": {
      "text/plain": [
       "KMeans(n_clusters=5)"
      ]
     },
     "execution_count": 27,
     "metadata": {},
     "output_type": "execute_result"
    }
   ],
   "source": [
    "kmeans = KMeans(n_clusters=5, init='k-means++', max_iter=300)\n",
    "kmeans.fit(X)"
   ]
  },
  {
   "cell_type": "code",
   "execution_count": 28,
   "id": "duplicate-convert",
   "metadata": {
    "execution": {
     "iopub.execute_input": "2021-06-22T08:13:58.472496Z",
     "iopub.status.busy": "2021-06-22T08:13:58.471685Z",
     "iopub.status.idle": "2021-06-22T08:13:58.479376Z",
     "shell.execute_reply": "2021-06-22T08:13:58.478838Z",
     "shell.execute_reply.started": "2021-06-22T08:09:48.465627Z"
    },
    "papermill": {
     "duration": 0.048749,
     "end_time": "2021-06-22T08:13:58.479521",
     "exception": false,
     "start_time": "2021-06-22T08:13:58.430772",
     "status": "completed"
    },
    "tags": []
   },
   "outputs": [
    {
     "data": {
      "text/plain": [
       "array([0, 1, 3, ..., 4, 1, 2], dtype=int32)"
      ]
     },
     "execution_count": 28,
     "metadata": {},
     "output_type": "execute_result"
    }
   ],
   "source": [
    "kmeans.labels_"
   ]
  },
  {
   "cell_type": "code",
   "execution_count": 29,
   "id": "appreciated-match",
   "metadata": {
    "execution": {
     "iopub.execute_input": "2021-06-22T08:13:58.559404Z",
     "iopub.status.busy": "2021-06-22T08:13:58.558353Z",
     "iopub.status.idle": "2021-06-22T08:13:58.560129Z",
     "shell.execute_reply": "2021-06-22T08:13:58.560627Z",
     "shell.execute_reply.started": "2021-06-22T08:10:01.675718Z"
    },
    "papermill": {
     "duration": 0.044945,
     "end_time": "2021-06-22T08:13:58.560791",
     "exception": false,
     "start_time": "2021-06-22T08:13:58.515846",
     "status": "completed"
    },
    "tags": []
   },
   "outputs": [],
   "source": [
    "rfm['kmeans_cluster'] = kmeans.labels_"
   ]
  },
  {
   "cell_type": "code",
   "execution_count": 30,
   "id": "august-longer",
   "metadata": {
    "execution": {
     "iopub.execute_input": "2021-06-22T08:13:58.645745Z",
     "iopub.status.busy": "2021-06-22T08:13:58.644871Z",
     "iopub.status.idle": "2021-06-22T08:13:58.650994Z",
     "shell.execute_reply": "2021-06-22T08:13:58.650453Z",
     "shell.execute_reply.started": "2021-06-22T08:11:07.241063Z"
    },
    "papermill": {
     "duration": 0.05386,
     "end_time": "2021-06-22T08:13:58.651131",
     "exception": false,
     "start_time": "2021-06-22T08:13:58.597271",
     "status": "completed"
    },
    "tags": []
   },
   "outputs": [
    {
     "data": {
      "text/plain": [
       "Recency            24.954424\n",
       "Frequency          14.487936\n",
       "Monetary          156.946777\n",
       "kmeans_cluster      4.000000\n",
       "dtype: float64"
      ]
     },
     "execution_count": 30,
     "metadata": {},
     "output_type": "execute_result"
    }
   ],
   "source": [
    "rfm[rfm['kmeans_cluster'] == 4].mean()"
   ]
  },
  {
   "cell_type": "code",
   "execution_count": 31,
   "id": "competitive-jackson",
   "metadata": {
    "execution": {
     "iopub.execute_input": "2021-06-22T08:13:58.734640Z",
     "iopub.status.busy": "2021-06-22T08:13:58.733706Z",
     "iopub.status.idle": "2021-06-22T08:13:58.737626Z",
     "shell.execute_reply": "2021-06-22T08:13:58.738084Z",
     "shell.execute_reply.started": "2021-06-22T08:12:31.980893Z"
    },
    "papermill": {
     "duration": 0.050346,
     "end_time": "2021-06-22T08:13:58.738284",
     "exception": false,
     "start_time": "2021-06-22T08:13:58.687938",
     "status": "completed"
    },
    "tags": []
   },
   "outputs": [
    {
     "data": {
      "text/plain": [
       "Recency               92.581199\n",
       "Frequency             91.858188\n",
       "Monetary          448183.228616\n",
       "kmeans_cluster         1.576167\n",
       "dtype: float64"
      ]
     },
     "execution_count": 31,
     "metadata": {},
     "output_type": "execute_result"
    }
   ],
   "source": [
    "rfm.mean()"
   ]
  },
  {
   "cell_type": "code",
   "execution_count": 32,
   "id": "tough-essay",
   "metadata": {
    "execution": {
     "iopub.execute_input": "2021-06-22T08:13:58.819848Z",
     "iopub.status.busy": "2021-06-22T08:13:58.818866Z",
     "iopub.status.idle": "2021-06-22T08:13:58.823563Z",
     "shell.execute_reply": "2021-06-22T08:13:58.822893Z",
     "shell.execute_reply.started": "2021-06-22T08:12:45.310737Z"
    },
    "papermill": {
     "duration": 0.047458,
     "end_time": "2021-06-22T08:13:58.823715",
     "exception": false,
     "start_time": "2021-06-22T08:13:58.776257",
     "status": "completed"
    },
    "tags": []
   },
   "outputs": [
    {
     "data": {
      "text/plain": [
       "3915.042067435744"
      ]
     },
     "execution_count": 32,
     "metadata": {},
     "output_type": "execute_result"
    }
   ],
   "source": [
    "kmeans.inertia_"
   ]
  }
 ],
 "metadata": {
  "kernelspec": {
   "display_name": "Python 3",
   "language": "python",
   "name": "python3"
  },
  "language_info": {
   "codemirror_mode": {
    "name": "ipython",
    "version": 3
   },
   "file_extension": ".py",
   "mimetype": "text/x-python",
   "name": "python",
   "nbconvert_exporter": "python",
   "pygments_lexer": "ipython3",
   "version": "3.7.10"
  },
  "papermill": {
   "default_parameters": {},
   "duration": 39.848155,
   "end_time": "2021-06-22T08:13:59.671872",
   "environment_variables": {},
   "exception": null,
   "input_path": "__notebook__.ipynb",
   "output_path": "__notebook__.ipynb",
   "parameters": {},
   "start_time": "2021-06-22T08:13:19.823717",
   "version": "2.3.3"
  }
 },
 "nbformat": 4,
 "nbformat_minor": 5
}
